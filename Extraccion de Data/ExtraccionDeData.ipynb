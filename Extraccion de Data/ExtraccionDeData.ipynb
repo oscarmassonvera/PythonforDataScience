{
 "cells": [
  {
   "cell_type": "markdown",
   "id": "062bbaaa",
   "metadata": {},
   "source": [
    "# Metodo loc() y iloc()"
   ]
  },
  {
   "cell_type": "markdown",
   "id": "7fd1ad4c",
   "metadata": {},
   "source": [
    "#### loc()  esta basado en nombres (etiquetas), por lo que tenemos que especificar filas y columnas usando el nombre del index/fila y columna."
   ]
  },
  {
   "cell_type": "markdown",
   "id": "582a54af",
   "metadata": {},
   "source": [
    "#### iloc() esta basado en la posicion numerica entera, por lo que tenemos que especifficar  filas y columnas usando el valor de su posicion entera (posicion empieza por el numero 0) "
   ]
  },
  {
   "cell_type": "markdown",
   "id": "e8584b58",
   "metadata": {},
   "source": [
    "#### ejemplo \n",
    "#### df.loc[['zeo','two']]\n",
    "#### df.iloc[[0,2]]\n",
    "#### df.loc[['zeo' : 'two']]\n",
    "#### df.iloc[[0 : 2]]\n"
   ]
  },
  {
   "cell_type": "code",
   "execution_count": null,
   "id": "78f81e0d",
   "metadata": {},
   "outputs": [],
   "source": []
  }
 ],
 "metadata": {
  "kernelspec": {
   "display_name": "Python 3 (ipykernel)",
   "language": "python",
   "name": "python3"
  },
  "language_info": {
   "codemirror_mode": {
    "name": "ipython",
    "version": 3
   },
   "file_extension": ".py",
   "mimetype": "text/x-python",
   "name": "python",
   "nbconvert_exporter": "python",
   "pygments_lexer": "ipython3",
   "version": "3.11.5"
  }
 },
 "nbformat": 4,
 "nbformat_minor": 5
}
