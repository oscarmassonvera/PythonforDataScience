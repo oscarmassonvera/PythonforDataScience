{
 "cells": [
  {
   "cell_type": "markdown",
   "id": "671ea41b",
   "metadata": {},
   "source": [
    "#### Metacaracteres:\n",
    "#### \\d - Digitos (0-9)\n",
    "#### \\D - No digitos (0-9)\n",
    "#### \\w - Caracter(0-9)\n",
    "#### \\W- No caracteres\n",
    "#### \\s - Espacio en blanco\n",
    "#### \\S - No espacio en blanco\n",
    "#### . - Cualquier caracter excepto nueva linea\n",
    "#### \\ - Cancela caracteres especiales\n",
    "#### ^ - Inicio cadena de caracteres\n",
    "#### simbolo dolar - Fin de una cadena de caracteres\n",
    "#### Numero de caracteres\n",
    "#### *  - 0 o mas\n",
    "#### + -1 o mas\n",
    "#### ? - 0 or 1\n",
    "#### {3} - Numero exacto\n",
    "####  {3,4} - Rango de numeros (Minimo, Maximo)\n",
    "#### () - Grupos\n",
    "#### [] - Encuentra caracteres en corchetes\n",
    "#### [^ ] - Encuentra caracteres q no estan en corchetes\n",
    "#### \\b - Limite de palabra\n",
    "#### \\B - No limite de palabra\n",
    "#### 1 - Referencia"
   ]
  },
  {
   "cell_type": "code",
   "execution_count": 12,
   "id": "6b4696ec",
   "metadata": {},
   "outputs": [
    {
     "name": "stdout",
     "output_type": "stream",
     "text": [
      "None\n"
     ]
    }
   ],
   "source": [
    "import re\n",
    "texto = ''' Hola mundo\n",
    "            Me gusta Python!!!\n",
    "            Mi primer numero de la suerte es 987-654-321\n",
    "            Mi segundo numero de la suerte es 876-543-210\n",
    "            Mi tercer numero de la suerte es 765-432-100\n",
    "            Mi cuarto numero de la suerte es 123-456-123-123'''\n",
    "# buscar el primer emparejamiento \n",
    "print(re.search(r'Mundo.$',texto,flags=re.M))"
   ]
  },
  {
   "cell_type": "code",
   "execution_count": 5,
   "id": "80bbc3fd",
   "metadata": {},
   "outputs": [
    {
     "name": "stdout",
     "output_type": "stream",
     "text": [
      "['9', '8', '7', '6', '5', '4', '3', '2', '1', '8', '7', '6', '5', '4', '3', '2', '1', '0', '7', '6', '5', '4', '3', '2', '1', '0', '0', '1', '2', '3', '4', '5', '6', '1', '2', '3', '1', '2', '3']\n"
     ]
    }
   ],
   "source": [
    "# buscar todos los emparejamientos (digitos)\n",
    "print(re.findall(r'\\d',texto))"
   ]
  },
  {
   "cell_type": "markdown",
   "id": "81c8223d",
   "metadata": {},
   "source": [
    "####  para trabajar con expresiones regulares se trabaja con https://regex101.com/ para que sea mas sencillo"
   ]
  },
  {
   "cell_type": "code",
   "execution_count": 13,
   "id": "cde85c5e",
   "metadata": {},
   "outputs": [],
   "source": [
    "# ejemplo Python!{3}"
   ]
  },
  {
   "cell_type": "code",
   "execution_count": 14,
   "id": "5aa36aba",
   "metadata": {},
   "outputs": [],
   "source": [
    "# Toma todo lo que hay dentro de dos guiones\n",
    "#  -.+-"
   ]
  },
  {
   "cell_type": "code",
   "execution_count": 15,
   "id": "d572ba17",
   "metadata": {},
   "outputs": [],
   "source": [
    "# detecta menos datos\n",
    "# -.+?-"
   ]
  },
  {
   "cell_type": "code",
   "execution_count": 16,
   "id": "47f00159",
   "metadata": {},
   "outputs": [],
   "source": [
    "# se recomienda trnasformar expresiones codiciosas a perezosas\n",
    "# se recomienda crear expresiones claras no propensas a la ambiguedad\n"
   ]
  },
  {
   "cell_type": "code",
   "execution_count": 17,
   "id": "e70b2af4",
   "metadata": {},
   "outputs": [],
   "source": [
    "# grupos capturados\n",
    "# capturar digitos de 3 separados por guiones\n",
    "# \\d{3}-\\d{3}-\\d{3}\n",
    "# capturar los tres primeros digitos\n",
    "# (\\d{3})-\\d{3}-\\d{3}"
   ]
  },
  {
   "cell_type": "code",
   "execution_count": 18,
   "id": "1b362882",
   "metadata": {},
   "outputs": [],
   "source": [
    "# lo que hace un corchete es hacer macht con todo lo q este dentro ejem\n",
    "# buscar los numeros q comiencen con 8 o 9\n",
    "# [89] esto busca los valores 8 o 9"
   ]
  },
  {
   "cell_type": "code",
   "execution_count": 19,
   "id": "8fc14c65",
   "metadata": {},
   "outputs": [],
   "source": [
    "# queremos tres numeros y el primer numero tiene q empezar con 8 9\n",
    "# [98]\\d{2}\n",
    "# todas las letras del avecedario en minusculas\n",
    "# [a-z]\n",
    "# todas las letras del avecedario en mayusculas\n",
    "# [A-Z]\n",
    "# todos los numeros\n",
    "# [0-9]"
   ]
  },
  {
   "cell_type": "code",
   "execution_count": 20,
   "id": "ea356d1b",
   "metadata": {},
   "outputs": [],
   "source": [
    "# todas lo q no sean letras del avecedario en minusculas\n",
    "# [^a-z]\n",
    "# todas lo q no sean letras del avecedario en mayusculas\n",
    "# [^A-Z]\n",
    "# todos lo q no sean numeros\n",
    "# [^0-9]"
   ]
  },
  {
   "cell_type": "code",
   "execution_count": 21,
   "id": "be0c4d63",
   "metadata": {},
   "outputs": [],
   "source": [
    "# Referencias nos permite repetir el valor de una\n",
    "# expresion regular q ya se hizo anteriormente\n",
    "\n",
    "# (123-)\\1"
   ]
  },
  {
   "cell_type": "code",
   "execution_count": 23,
   "id": "65b1c284",
   "metadata": {},
   "outputs": [
    {
     "name": "stdout",
     "output_type": "stream",
     "text": [
      "<re.Match object; span=(1, 5), match='Hola'>\n"
     ]
    }
   ],
   "source": [
    "print(re.search(r'Hola',texto,flags=re.I)) # ignora las minusculas o mayusculas"
   ]
  },
  {
   "cell_type": "code",
   "execution_count": 25,
   "id": "4e345ded",
   "metadata": {},
   "outputs": [
    {
     "name": "stdout",
     "output_type": "stream",
     "text": [
      "['!', '!', '!', '-', '-', '-', '-', '-', '-', '-', '-', '-']\n"
     ]
    }
   ],
   "source": [
    "# casos comunes\n",
    "# 1 Encontrar puntuaciones\n",
    "# encuentra los elementos q no tengan digitos o letras \n",
    "print (re.findall(r'[^\\w\\s]',texto))"
   ]
  },
  {
   "cell_type": "code",
   "execution_count": 29,
   "id": "329de72e",
   "metadata": {},
   "outputs": [
    {
     "name": "stdout",
     "output_type": "stream",
     "text": [
      "['13-04-2011']\n"
     ]
    }
   ],
   "source": [
    "# Validar una fecha\n",
    "texto = '''\n",
    "13-04-2011\n",
    "2011-13-04\n",
    "2021-04-13\n",
    "'''\n",
    "# dame digitos q comiencen con 2 digitos y q esten seguidos del \n",
    "# guion dos veces y al final que acabe con 4 digitos por q eso es un año\n",
    "print(re.findall(r'\\d{2}-\\d{2}-\\d{4}',texto))"
   ]
  },
  {
   "cell_type": "code",
   "execution_count": 30,
   "id": "2bd9a09b",
   "metadata": {},
   "outputs": [
    {
     "name": "stdout",
     "output_type": "stream",
     "text": [
      "['usuario10']\n"
     ]
    }
   ],
   "source": [
    "# Validar usuario\n",
    "# condiciones : 4-14 y solo numeros o letras\n",
    "texto = '''\n",
    "usuario10\n",
    "abc\n",
    "10'''\n",
    "# numero o letras de 4 a 14 digitos\n",
    "print(re.findall(r'[a-z0-9]{4,14}',texto))"
   ]
  },
  {
   "cell_type": "code",
   "execution_count": null,
   "id": "01b97fa5",
   "metadata": {},
   "outputs": [],
   "source": []
  }
 ],
 "metadata": {
  "kernelspec": {
   "display_name": "Python 3 (ipykernel)",
   "language": "python",
   "name": "python3"
  },
  "language_info": {
   "codemirror_mode": {
    "name": "ipython",
    "version": 3
   },
   "file_extension": ".py",
   "mimetype": "text/x-python",
   "name": "python",
   "nbconvert_exporter": "python",
   "pygments_lexer": "ipython3",
   "version": "3.11.5"
  }
 },
 "nbformat": 4,
 "nbformat_minor": 5
}
