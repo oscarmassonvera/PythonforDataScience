{
 "cells": [
  {
   "cell_type": "markdown",
   "id": "27d0360e",
   "metadata": {},
   "source": [
    "# Juntar y concatenar dataframes "
   ]
  },
  {
   "cell_type": "code",
   "execution_count": 8,
   "id": "352ee851",
   "metadata": {},
   "outputs": [],
   "source": [
    "import pandas as pd\n",
    "df_movies = pd.read_csv('IMDb movies.csv',low_memory=False)\n",
    "df_ratings = pd.read_csv('IMDb ratings.csv')"
   ]
  },
  {
   "cell_type": "code",
   "execution_count": 9,
   "id": "d6869518",
   "metadata": {},
   "outputs": [
    {
     "data": {
      "text/plain": [
       "Index(['imdb_title_id', 'title', 'original_title', 'year', 'date_published',\n",
       "       'genre', 'duration', 'country', 'language', 'director', 'writer',\n",
       "       'production_company', 'actors', 'description', 'avg_vote', 'votes',\n",
       "       'budget', 'usa_gross_income', 'worlwide_gross_income', 'metascore',\n",
       "       'reviews_from_users', 'reviews_from_critics'],\n",
       "      dtype='object')"
      ]
     },
     "execution_count": 9,
     "metadata": {},
     "output_type": "execute_result"
    }
   ],
   "source": [
    "df_movies.columns"
   ]
  },
  {
   "cell_type": "code",
   "execution_count": 10,
   "id": "2eefe51f",
   "metadata": {},
   "outputs": [],
   "source": [
    "df_movies = df_movies[['imdb_title_id','title','year','genre','country']]"
   ]
  },
  {
   "cell_type": "code",
   "execution_count": 11,
   "id": "db80373d",
   "metadata": {},
   "outputs": [
    {
     "data": {
      "text/html": [
       "<div>\n",
       "<style scoped>\n",
       "    .dataframe tbody tr th:only-of-type {\n",
       "        vertical-align: middle;\n",
       "    }\n",
       "\n",
       "    .dataframe tbody tr th {\n",
       "        vertical-align: top;\n",
       "    }\n",
       "\n",
       "    .dataframe thead th {\n",
       "        text-align: right;\n",
       "    }\n",
       "</style>\n",
       "<table border=\"1\" class=\"dataframe\">\n",
       "  <thead>\n",
       "    <tr style=\"text-align: right;\">\n",
       "      <th></th>\n",
       "      <th>imdb_title_id</th>\n",
       "      <th>title</th>\n",
       "      <th>year</th>\n",
       "      <th>genre</th>\n",
       "      <th>country</th>\n",
       "    </tr>\n",
       "  </thead>\n",
       "  <tbody>\n",
       "    <tr>\n",
       "      <th>0</th>\n",
       "      <td>tt0000009</td>\n",
       "      <td>Miss Jerry</td>\n",
       "      <td>1894</td>\n",
       "      <td>Romance</td>\n",
       "      <td>USA</td>\n",
       "    </tr>\n",
       "    <tr>\n",
       "      <th>1</th>\n",
       "      <td>tt0000574</td>\n",
       "      <td>The Story of the Kelly Gang</td>\n",
       "      <td>1906</td>\n",
       "      <td>Biography, Crime, Drama</td>\n",
       "      <td>Australia</td>\n",
       "    </tr>\n",
       "    <tr>\n",
       "      <th>2</th>\n",
       "      <td>tt0001892</td>\n",
       "      <td>Den sorte drøm</td>\n",
       "      <td>1911</td>\n",
       "      <td>Drama</td>\n",
       "      <td>Germany, Denmark</td>\n",
       "    </tr>\n",
       "    <tr>\n",
       "      <th>3</th>\n",
       "      <td>tt0002101</td>\n",
       "      <td>Cleopatra</td>\n",
       "      <td>1912</td>\n",
       "      <td>Drama, History</td>\n",
       "      <td>USA</td>\n",
       "    </tr>\n",
       "    <tr>\n",
       "      <th>4</th>\n",
       "      <td>tt0002130</td>\n",
       "      <td>L'Inferno</td>\n",
       "      <td>1911</td>\n",
       "      <td>Adventure, Drama, Fantasy</td>\n",
       "      <td>Italy</td>\n",
       "    </tr>\n",
       "    <tr>\n",
       "      <th>...</th>\n",
       "      <td>...</td>\n",
       "      <td>...</td>\n",
       "      <td>...</td>\n",
       "      <td>...</td>\n",
       "      <td>...</td>\n",
       "    </tr>\n",
       "    <tr>\n",
       "      <th>85850</th>\n",
       "      <td>tt9908390</td>\n",
       "      <td>Le lion</td>\n",
       "      <td>2020</td>\n",
       "      <td>Comedy</td>\n",
       "      <td>France, Belgium</td>\n",
       "    </tr>\n",
       "    <tr>\n",
       "      <th>85851</th>\n",
       "      <td>tt9911196</td>\n",
       "      <td>De Beentjes van Sint-Hildegard</td>\n",
       "      <td>2020</td>\n",
       "      <td>Comedy, Drama</td>\n",
       "      <td>Netherlands</td>\n",
       "    </tr>\n",
       "    <tr>\n",
       "      <th>85852</th>\n",
       "      <td>tt9911774</td>\n",
       "      <td>Padmavyuhathile Abhimanyu</td>\n",
       "      <td>2019</td>\n",
       "      <td>Drama</td>\n",
       "      <td>India</td>\n",
       "    </tr>\n",
       "    <tr>\n",
       "      <th>85853</th>\n",
       "      <td>tt9914286</td>\n",
       "      <td>Sokagin Çocuklari</td>\n",
       "      <td>2019</td>\n",
       "      <td>Drama, Family</td>\n",
       "      <td>Turkey</td>\n",
       "    </tr>\n",
       "    <tr>\n",
       "      <th>85854</th>\n",
       "      <td>tt9914942</td>\n",
       "      <td>La vida sense la Sara Amat</td>\n",
       "      <td>2019</td>\n",
       "      <td>Drama</td>\n",
       "      <td>Spain</td>\n",
       "    </tr>\n",
       "  </tbody>\n",
       "</table>\n",
       "<p>85855 rows × 5 columns</p>\n",
       "</div>"
      ],
      "text/plain": [
       "      imdb_title_id                           title  year  \\\n",
       "0         tt0000009                      Miss Jerry  1894   \n",
       "1         tt0000574     The Story of the Kelly Gang  1906   \n",
       "2         tt0001892                  Den sorte drøm  1911   \n",
       "3         tt0002101                       Cleopatra  1912   \n",
       "4         tt0002130                       L'Inferno  1911   \n",
       "...             ...                             ...   ...   \n",
       "85850     tt9908390                         Le lion  2020   \n",
       "85851     tt9911196  De Beentjes van Sint-Hildegard  2020   \n",
       "85852     tt9911774       Padmavyuhathile Abhimanyu  2019   \n",
       "85853     tt9914286               Sokagin Çocuklari  2019   \n",
       "85854     tt9914942      La vida sense la Sara Amat  2019   \n",
       "\n",
       "                           genre           country  \n",
       "0                        Romance               USA  \n",
       "1        Biography, Crime, Drama         Australia  \n",
       "2                          Drama  Germany, Denmark  \n",
       "3                 Drama, History               USA  \n",
       "4      Adventure, Drama, Fantasy             Italy  \n",
       "...                          ...               ...  \n",
       "85850                     Comedy   France, Belgium  \n",
       "85851              Comedy, Drama       Netherlands  \n",
       "85852                      Drama             India  \n",
       "85853              Drama, Family            Turkey  \n",
       "85854                      Drama             Spain  \n",
       "\n",
       "[85855 rows x 5 columns]"
      ]
     },
     "execution_count": 11,
     "metadata": {},
     "output_type": "execute_result"
    }
   ],
   "source": [
    "df_movies"
   ]
  },
  {
   "cell_type": "code",
   "execution_count": 12,
   "id": "c118cea0",
   "metadata": {},
   "outputs": [
    {
     "data": {
      "text/plain": [
       "Index(['imdb_title_id', 'weighted_average_vote', 'total_votes', 'mean_vote',\n",
       "       'median_vote', 'votes_10', 'votes_9', 'votes_8', 'votes_7', 'votes_6',\n",
       "       'votes_5', 'votes_4', 'votes_3', 'votes_2', 'votes_1',\n",
       "       'allgenders_0age_avg_vote', 'allgenders_0age_votes',\n",
       "       'allgenders_18age_avg_vote', 'allgenders_18age_votes',\n",
       "       'allgenders_30age_avg_vote', 'allgenders_30age_votes',\n",
       "       'allgenders_45age_avg_vote', 'allgenders_45age_votes',\n",
       "       'males_allages_avg_vote', 'males_allages_votes', 'males_0age_avg_vote',\n",
       "       'males_0age_votes', 'males_18age_avg_vote', 'males_18age_votes',\n",
       "       'males_30age_avg_vote', 'males_30age_votes', 'males_45age_avg_vote',\n",
       "       'males_45age_votes', 'females_allages_avg_vote',\n",
       "       'females_allages_votes', 'females_0age_avg_vote', 'females_0age_votes',\n",
       "       'females_18age_avg_vote', 'females_18age_votes',\n",
       "       'females_30age_avg_vote', 'females_30age_votes',\n",
       "       'females_45age_avg_vote', 'females_45age_votes',\n",
       "       'top1000_voters_rating', 'top1000_voters_votes', 'us_voters_rating',\n",
       "       'us_voters_votes', 'non_us_voters_rating', 'non_us_voters_votes'],\n",
       "      dtype='object')"
      ]
     },
     "execution_count": 12,
     "metadata": {},
     "output_type": "execute_result"
    }
   ],
   "source": [
    "df_ratings.columns"
   ]
  },
  {
   "cell_type": "code",
   "execution_count": 15,
   "id": "dc060273",
   "metadata": {},
   "outputs": [],
   "source": [
    " df_ratings = df_ratings[['imdb_title_id','total_votes','mean_vote']]"
   ]
  },
  {
   "cell_type": "code",
   "execution_count": 16,
   "id": "c024581f",
   "metadata": {},
   "outputs": [
    {
     "data": {
      "text/html": [
       "<div>\n",
       "<style scoped>\n",
       "    .dataframe tbody tr th:only-of-type {\n",
       "        vertical-align: middle;\n",
       "    }\n",
       "\n",
       "    .dataframe tbody tr th {\n",
       "        vertical-align: top;\n",
       "    }\n",
       "\n",
       "    .dataframe thead th {\n",
       "        text-align: right;\n",
       "    }\n",
       "</style>\n",
       "<table border=\"1\" class=\"dataframe\">\n",
       "  <thead>\n",
       "    <tr style=\"text-align: right;\">\n",
       "      <th></th>\n",
       "      <th>imdb_title_id</th>\n",
       "      <th>total_votes</th>\n",
       "      <th>mean_vote</th>\n",
       "    </tr>\n",
       "  </thead>\n",
       "  <tbody>\n",
       "    <tr>\n",
       "      <th>0</th>\n",
       "      <td>tt0000009</td>\n",
       "      <td>154</td>\n",
       "      <td>5.9</td>\n",
       "    </tr>\n",
       "    <tr>\n",
       "      <th>1</th>\n",
       "      <td>tt0000574</td>\n",
       "      <td>589</td>\n",
       "      <td>6.3</td>\n",
       "    </tr>\n",
       "    <tr>\n",
       "      <th>2</th>\n",
       "      <td>tt0001892</td>\n",
       "      <td>188</td>\n",
       "      <td>6.0</td>\n",
       "    </tr>\n",
       "    <tr>\n",
       "      <th>3</th>\n",
       "      <td>tt0002101</td>\n",
       "      <td>446</td>\n",
       "      <td>5.3</td>\n",
       "    </tr>\n",
       "    <tr>\n",
       "      <th>4</th>\n",
       "      <td>tt0002130</td>\n",
       "      <td>2237</td>\n",
       "      <td>6.9</td>\n",
       "    </tr>\n",
       "    <tr>\n",
       "      <th>...</th>\n",
       "      <td>...</td>\n",
       "      <td>...</td>\n",
       "      <td>...</td>\n",
       "    </tr>\n",
       "    <tr>\n",
       "      <th>85850</th>\n",
       "      <td>tt9908390</td>\n",
       "      <td>398</td>\n",
       "      <td>5.5</td>\n",
       "    </tr>\n",
       "    <tr>\n",
       "      <th>85851</th>\n",
       "      <td>tt9911196</td>\n",
       "      <td>724</td>\n",
       "      <td>7.9</td>\n",
       "    </tr>\n",
       "    <tr>\n",
       "      <th>85852</th>\n",
       "      <td>tt9911774</td>\n",
       "      <td>265</td>\n",
       "      <td>7.8</td>\n",
       "    </tr>\n",
       "    <tr>\n",
       "      <th>85853</th>\n",
       "      <td>tt9914286</td>\n",
       "      <td>194</td>\n",
       "      <td>9.4</td>\n",
       "    </tr>\n",
       "    <tr>\n",
       "      <th>85854</th>\n",
       "      <td>tt9914942</td>\n",
       "      <td>102</td>\n",
       "      <td>6.8</td>\n",
       "    </tr>\n",
       "  </tbody>\n",
       "</table>\n",
       "<p>85855 rows × 3 columns</p>\n",
       "</div>"
      ],
      "text/plain": [
       "      imdb_title_id  total_votes  mean_vote\n",
       "0         tt0000009          154        5.9\n",
       "1         tt0000574          589        6.3\n",
       "2         tt0001892          188        6.0\n",
       "3         tt0002101          446        5.3\n",
       "4         tt0002130         2237        6.9\n",
       "...             ...          ...        ...\n",
       "85850     tt9908390          398        5.5\n",
       "85851     tt9911196          724        7.9\n",
       "85852     tt9911774          265        7.8\n",
       "85853     tt9914286          194        9.4\n",
       "85854     tt9914942          102        6.8\n",
       "\n",
       "[85855 rows x 3 columns]"
      ]
     },
     "execution_count": 16,
     "metadata": {},
     "output_type": "execute_result"
    }
   ],
   "source": [
    "df_movies\n",
    "df_ratings"
   ]
  },
  {
   "cell_type": "markdown",
   "id": "96ec3d19",
   "metadata": {},
   "source": [
    "## concat() "
   ]
  },
  {
   "cell_type": "markdown",
   "id": "da565ef8",
   "metadata": {},
   "source": [
    "#### concatenacion vertical "
   ]
  },
  {
   "cell_type": "code",
   "execution_count": 17,
   "id": "3f407833",
   "metadata": {},
   "outputs": [],
   "source": [
    "df1 = pd.DataFrame({'id':['A','B','C','D'],'age':[30,23,25,22]})\n",
    "df2 = pd.DataFrame({'id':['E','F','G','F'],'age':[40,21,19,24]})"
   ]
  },
  {
   "cell_type": "code",
   "execution_count": 18,
   "id": "eb5b90a9",
   "metadata": {},
   "outputs": [
    {
     "data": {
      "text/html": [
       "<div>\n",
       "<style scoped>\n",
       "    .dataframe tbody tr th:only-of-type {\n",
       "        vertical-align: middle;\n",
       "    }\n",
       "\n",
       "    .dataframe tbody tr th {\n",
       "        vertical-align: top;\n",
       "    }\n",
       "\n",
       "    .dataframe thead th {\n",
       "        text-align: right;\n",
       "    }\n",
       "</style>\n",
       "<table border=\"1\" class=\"dataframe\">\n",
       "  <thead>\n",
       "    <tr style=\"text-align: right;\">\n",
       "      <th></th>\n",
       "      <th>id</th>\n",
       "      <th>age</th>\n",
       "    </tr>\n",
       "  </thead>\n",
       "  <tbody>\n",
       "    <tr>\n",
       "      <th>0</th>\n",
       "      <td>A</td>\n",
       "      <td>30</td>\n",
       "    </tr>\n",
       "    <tr>\n",
       "      <th>1</th>\n",
       "      <td>B</td>\n",
       "      <td>23</td>\n",
       "    </tr>\n",
       "    <tr>\n",
       "      <th>2</th>\n",
       "      <td>C</td>\n",
       "      <td>25</td>\n",
       "    </tr>\n",
       "    <tr>\n",
       "      <th>3</th>\n",
       "      <td>D</td>\n",
       "      <td>22</td>\n",
       "    </tr>\n",
       "  </tbody>\n",
       "</table>\n",
       "</div>"
      ],
      "text/plain": [
       "  id  age\n",
       "0  A   30\n",
       "1  B   23\n",
       "2  C   25\n",
       "3  D   22"
      ]
     },
     "execution_count": 18,
     "metadata": {},
     "output_type": "execute_result"
    }
   ],
   "source": [
    "df1"
   ]
  },
  {
   "cell_type": "code",
   "execution_count": 19,
   "id": "e3b7c223",
   "metadata": {},
   "outputs": [
    {
     "data": {
      "text/html": [
       "<div>\n",
       "<style scoped>\n",
       "    .dataframe tbody tr th:only-of-type {\n",
       "        vertical-align: middle;\n",
       "    }\n",
       "\n",
       "    .dataframe tbody tr th {\n",
       "        vertical-align: top;\n",
       "    }\n",
       "\n",
       "    .dataframe thead th {\n",
       "        text-align: right;\n",
       "    }\n",
       "</style>\n",
       "<table border=\"1\" class=\"dataframe\">\n",
       "  <thead>\n",
       "    <tr style=\"text-align: right;\">\n",
       "      <th></th>\n",
       "      <th>id</th>\n",
       "      <th>age</th>\n",
       "    </tr>\n",
       "  </thead>\n",
       "  <tbody>\n",
       "    <tr>\n",
       "      <th>0</th>\n",
       "      <td>E</td>\n",
       "      <td>40</td>\n",
       "    </tr>\n",
       "    <tr>\n",
       "      <th>1</th>\n",
       "      <td>F</td>\n",
       "      <td>21</td>\n",
       "    </tr>\n",
       "    <tr>\n",
       "      <th>2</th>\n",
       "      <td>G</td>\n",
       "      <td>19</td>\n",
       "    </tr>\n",
       "    <tr>\n",
       "      <th>3</th>\n",
       "      <td>F</td>\n",
       "      <td>24</td>\n",
       "    </tr>\n",
       "  </tbody>\n",
       "</table>\n",
       "</div>"
      ],
      "text/plain": [
       "  id  age\n",
       "0  E   40\n",
       "1  F   21\n",
       "2  G   19\n",
       "3  F   24"
      ]
     },
     "execution_count": 19,
     "metadata": {},
     "output_type": "execute_result"
    }
   ],
   "source": [
    "df2"
   ]
  },
  {
   "cell_type": "code",
   "execution_count": 24,
   "id": "33275411",
   "metadata": {},
   "outputs": [
    {
     "data": {
      "text/html": [
       "<div>\n",
       "<style scoped>\n",
       "    .dataframe tbody tr th:only-of-type {\n",
       "        vertical-align: middle;\n",
       "    }\n",
       "\n",
       "    .dataframe tbody tr th {\n",
       "        vertical-align: top;\n",
       "    }\n",
       "\n",
       "    .dataframe thead th {\n",
       "        text-align: right;\n",
       "    }\n",
       "</style>\n",
       "<table border=\"1\" class=\"dataframe\">\n",
       "  <thead>\n",
       "    <tr style=\"text-align: right;\">\n",
       "      <th></th>\n",
       "      <th>age</th>\n",
       "      <th>id</th>\n",
       "    </tr>\n",
       "  </thead>\n",
       "  <tbody>\n",
       "    <tr>\n",
       "      <th>0</th>\n",
       "      <td>30</td>\n",
       "      <td>A</td>\n",
       "    </tr>\n",
       "    <tr>\n",
       "      <th>1</th>\n",
       "      <td>23</td>\n",
       "      <td>B</td>\n",
       "    </tr>\n",
       "    <tr>\n",
       "      <th>2</th>\n",
       "      <td>25</td>\n",
       "      <td>C</td>\n",
       "    </tr>\n",
       "    <tr>\n",
       "      <th>3</th>\n",
       "      <td>22</td>\n",
       "      <td>D</td>\n",
       "    </tr>\n",
       "    <tr>\n",
       "      <th>4</th>\n",
       "      <td>40</td>\n",
       "      <td>E</td>\n",
       "    </tr>\n",
       "    <tr>\n",
       "      <th>5</th>\n",
       "      <td>21</td>\n",
       "      <td>F</td>\n",
       "    </tr>\n",
       "    <tr>\n",
       "      <th>6</th>\n",
       "      <td>19</td>\n",
       "      <td>G</td>\n",
       "    </tr>\n",
       "    <tr>\n",
       "      <th>7</th>\n",
       "      <td>24</td>\n",
       "      <td>F</td>\n",
       "    </tr>\n",
       "  </tbody>\n",
       "</table>\n",
       "</div>"
      ],
      "text/plain": [
       "   age id\n",
       "0   30  A\n",
       "1   23  B\n",
       "2   25  C\n",
       "3   22  D\n",
       "4   40  E\n",
       "5   21  F\n",
       "6   19  G\n",
       "7   24  F"
      ]
     },
     "execution_count": 24,
     "metadata": {},
     "output_type": "execute_result"
    }
   ],
   "source": [
    "# concatenemos sin index repetidos y ordenado\n",
    "pd.concat([df1,df2],axis=0,ignore_index=True, sort=True)"
   ]
  },
  {
   "cell_type": "markdown",
   "id": "193c1372",
   "metadata": {},
   "source": [
    "##  Ejercicio"
   ]
  },
  {
   "cell_type": "code",
   "execution_count": 32,
   "id": "bd918704",
   "metadata": {},
   "outputs": [],
   "source": [
    "# extraer 50% de muestra del dataframe original \n",
    "df_samples = df_movies.sample(frac=0.5)"
   ]
  },
  {
   "cell_type": "code",
   "execution_count": 35,
   "id": "97e4285f",
   "metadata": {},
   "outputs": [
    {
     "name": "stdout",
     "output_type": "stream",
     "text": [
      "(85855, 5)\n",
      "(42928, 5)\n"
     ]
    }
   ],
   "source": [
    "# shape\n",
    "print(df_movies.shape)\n",
    "print(df_samples.shape)"
   ]
  },
  {
   "cell_type": "code",
   "execution_count": 36,
   "id": "d0d7c760",
   "metadata": {},
   "outputs": [],
   "source": [
    "# concatenar verticalmente df_movies y df_samples\n",
    "df_concat_vertical = pd.concat([df_samples,df_movies],axis=0,ignore_index=True, sort=True)"
   ]
  },
  {
   "cell_type": "code",
   "execution_count": 37,
   "id": "620b4ee4",
   "metadata": {},
   "outputs": [
    {
     "data": {
      "text/plain": [
       "(128783, 5)"
      ]
     },
     "execution_count": 37,
     "metadata": {},
     "output_type": "execute_result"
    }
   ],
   "source": [
    "df_concat_vertical.shape"
   ]
  },
  {
   "cell_type": "markdown",
   "id": "3c880c5f",
   "metadata": {},
   "source": [
    "# concat()  "
   ]
  },
  {
   "cell_type": "markdown",
   "id": "bc6491e9",
   "metadata": {},
   "source": [
    "#### concatenar horizontalmente "
   ]
  },
  {
   "cell_type": "code",
   "execution_count": 40,
   "id": "0ecf31f3",
   "metadata": {},
   "outputs": [],
   "source": [
    "df1 = pd.DataFrame({'id':['A','B','C','D'],'age':[30,23,25,22]})\n",
    "df2 = pd.DataFrame({'job':['Doctor','Statistician',\n",
    "                            'Accountant','Developper']})"
   ]
  },
  {
   "cell_type": "code",
   "execution_count": 41,
   "id": "40639fe9",
   "metadata": {},
   "outputs": [
    {
     "data": {
      "text/html": [
       "<div>\n",
       "<style scoped>\n",
       "    .dataframe tbody tr th:only-of-type {\n",
       "        vertical-align: middle;\n",
       "    }\n",
       "\n",
       "    .dataframe tbody tr th {\n",
       "        vertical-align: top;\n",
       "    }\n",
       "\n",
       "    .dataframe thead th {\n",
       "        text-align: right;\n",
       "    }\n",
       "</style>\n",
       "<table border=\"1\" class=\"dataframe\">\n",
       "  <thead>\n",
       "    <tr style=\"text-align: right;\">\n",
       "      <th></th>\n",
       "      <th>id</th>\n",
       "      <th>age</th>\n",
       "    </tr>\n",
       "  </thead>\n",
       "  <tbody>\n",
       "    <tr>\n",
       "      <th>0</th>\n",
       "      <td>A</td>\n",
       "      <td>30</td>\n",
       "    </tr>\n",
       "    <tr>\n",
       "      <th>1</th>\n",
       "      <td>B</td>\n",
       "      <td>23</td>\n",
       "    </tr>\n",
       "    <tr>\n",
       "      <th>2</th>\n",
       "      <td>C</td>\n",
       "      <td>25</td>\n",
       "    </tr>\n",
       "    <tr>\n",
       "      <th>3</th>\n",
       "      <td>D</td>\n",
       "      <td>22</td>\n",
       "    </tr>\n",
       "  </tbody>\n",
       "</table>\n",
       "</div>"
      ],
      "text/plain": [
       "  id  age\n",
       "0  A   30\n",
       "1  B   23\n",
       "2  C   25\n",
       "3  D   22"
      ]
     },
     "execution_count": 41,
     "metadata": {},
     "output_type": "execute_result"
    }
   ],
   "source": [
    "df1"
   ]
  },
  {
   "cell_type": "code",
   "execution_count": 42,
   "id": "1a33b271",
   "metadata": {},
   "outputs": [
    {
     "data": {
      "text/html": [
       "<div>\n",
       "<style scoped>\n",
       "    .dataframe tbody tr th:only-of-type {\n",
       "        vertical-align: middle;\n",
       "    }\n",
       "\n",
       "    .dataframe tbody tr th {\n",
       "        vertical-align: top;\n",
       "    }\n",
       "\n",
       "    .dataframe thead th {\n",
       "        text-align: right;\n",
       "    }\n",
       "</style>\n",
       "<table border=\"1\" class=\"dataframe\">\n",
       "  <thead>\n",
       "    <tr style=\"text-align: right;\">\n",
       "      <th></th>\n",
       "      <th>job</th>\n",
       "    </tr>\n",
       "  </thead>\n",
       "  <tbody>\n",
       "    <tr>\n",
       "      <th>0</th>\n",
       "      <td>Doctor</td>\n",
       "    </tr>\n",
       "    <tr>\n",
       "      <th>1</th>\n",
       "      <td>Statistician</td>\n",
       "    </tr>\n",
       "    <tr>\n",
       "      <th>2</th>\n",
       "      <td>Accountant</td>\n",
       "    </tr>\n",
       "    <tr>\n",
       "      <th>3</th>\n",
       "      <td>Developper</td>\n",
       "    </tr>\n",
       "  </tbody>\n",
       "</table>\n",
       "</div>"
      ],
      "text/plain": [
       "            job\n",
       "0        Doctor\n",
       "1  Statistician\n",
       "2    Accountant\n",
       "3    Developper"
      ]
     },
     "execution_count": 42,
     "metadata": {},
     "output_type": "execute_result"
    }
   ],
   "source": [
    "df2"
   ]
  },
  {
   "cell_type": "code",
   "execution_count": 43,
   "id": "bc68b954",
   "metadata": {},
   "outputs": [
    {
     "data": {
      "text/html": [
       "<div>\n",
       "<style scoped>\n",
       "    .dataframe tbody tr th:only-of-type {\n",
       "        vertical-align: middle;\n",
       "    }\n",
       "\n",
       "    .dataframe tbody tr th {\n",
       "        vertical-align: top;\n",
       "    }\n",
       "\n",
       "    .dataframe thead th {\n",
       "        text-align: right;\n",
       "    }\n",
       "</style>\n",
       "<table border=\"1\" class=\"dataframe\">\n",
       "  <thead>\n",
       "    <tr style=\"text-align: right;\">\n",
       "      <th></th>\n",
       "      <th>id</th>\n",
       "      <th>age</th>\n",
       "      <th>job</th>\n",
       "    </tr>\n",
       "  </thead>\n",
       "  <tbody>\n",
       "    <tr>\n",
       "      <th>0</th>\n",
       "      <td>A</td>\n",
       "      <td>30</td>\n",
       "      <td>Doctor</td>\n",
       "    </tr>\n",
       "    <tr>\n",
       "      <th>1</th>\n",
       "      <td>B</td>\n",
       "      <td>23</td>\n",
       "      <td>Statistician</td>\n",
       "    </tr>\n",
       "    <tr>\n",
       "      <th>2</th>\n",
       "      <td>C</td>\n",
       "      <td>25</td>\n",
       "      <td>Accountant</td>\n",
       "    </tr>\n",
       "    <tr>\n",
       "      <th>3</th>\n",
       "      <td>D</td>\n",
       "      <td>22</td>\n",
       "      <td>Developper</td>\n",
       "    </tr>\n",
       "  </tbody>\n",
       "</table>\n",
       "</div>"
      ],
      "text/plain": [
       "  id  age           job\n",
       "0  A   30        Doctor\n",
       "1  B   23  Statistician\n",
       "2  C   25    Accountant\n",
       "3  D   22    Developper"
      ]
     },
     "execution_count": 43,
     "metadata": {},
     "output_type": "execute_result"
    }
   ],
   "source": [
    "pd.concat([df1,df2],axis=1)"
   ]
  },
  {
   "cell_type": "code",
   "execution_count": null,
   "id": "001d2110",
   "metadata": {},
   "outputs": [],
   "source": []
  }
 ],
 "metadata": {
  "kernelspec": {
   "display_name": "Python 3 (ipykernel)",
   "language": "python",
   "name": "python3"
  },
  "language_info": {
   "codemirror_mode": {
    "name": "ipython",
    "version": 3
   },
   "file_extension": ".py",
   "mimetype": "text/x-python",
   "name": "python",
   "nbconvert_exporter": "python",
   "pygments_lexer": "ipython3",
   "version": "3.11.5"
  }
 },
 "nbformat": 4,
 "nbformat_minor": 5
}
