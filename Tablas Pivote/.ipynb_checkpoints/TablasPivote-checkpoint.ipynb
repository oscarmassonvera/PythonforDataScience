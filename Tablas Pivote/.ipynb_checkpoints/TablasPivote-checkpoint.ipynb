{
 "cells": [
  {
   "cell_type": "markdown",
   "id": "7f35139c",
   "metadata": {},
   "source": [
    "# Introduccion a tablas pivote en pandas"
   ]
  },
  {
   "cell_type": "markdown",
   "id": "1144475b",
   "metadata": {},
   "source": [
    "## pivot() : reconstruye una data basada en valores de una columna (no soporta operaciones)\n",
    "## pivot_table() : crea una tabla pivote al estilo de excel (soporta operaciones)"
   ]
  },
  {
   "cell_type": "code",
   "execution_count": 2,
   "id": "005feb0b",
   "metadata": {},
   "outputs": [],
   "source": [
    "import pandas as pd"
   ]
  },
  {
   "cell_type": "markdown",
   "id": "98cc71d7",
   "metadata": {},
   "source": [
    "## pivot() "
   ]
  },
  {
   "cell_type": "code",
   "execution_count": 8,
   "id": "5c30dc5f",
   "metadata": {},
   "outputs": [
    {
     "data": {
      "text/html": [
       "<div>\n",
       "<style scoped>\n",
       "    .dataframe tbody tr th:only-of-type {\n",
       "        vertical-align: middle;\n",
       "    }\n",
       "\n",
       "    .dataframe tbody tr th {\n",
       "        vertical-align: top;\n",
       "    }\n",
       "\n",
       "    .dataframe thead th {\n",
       "        text-align: right;\n",
       "    }\n",
       "</style>\n",
       "<table border=\"1\" class=\"dataframe\">\n",
       "  <thead>\n",
       "    <tr style=\"text-align: right;\">\n",
       "      <th></th>\n",
       "      <th>unid</th>\n",
       "      <th>wbid</th>\n",
       "      <th>country</th>\n",
       "      <th>year</th>\n",
       "      <th>SES</th>\n",
       "      <th>gdppc</th>\n",
       "      <th>yrseduc</th>\n",
       "      <th>popshare</th>\n",
       "    </tr>\n",
       "  </thead>\n",
       "  <tbody>\n",
       "    <tr>\n",
       "      <th>0</th>\n",
       "      <td>4</td>\n",
       "      <td>AFG</td>\n",
       "      <td>Afghanistan</td>\n",
       "      <td>1970</td>\n",
       "      <td>3.474212</td>\n",
       "      <td>709.00000</td>\n",
       "      <td>NaN</td>\n",
       "      <td>0.003097</td>\n",
       "    </tr>\n",
       "    <tr>\n",
       "      <th>1</th>\n",
       "      <td>4</td>\n",
       "      <td>AFG</td>\n",
       "      <td>Afghanistan</td>\n",
       "      <td>1920</td>\n",
       "      <td>26.968016</td>\n",
       "      <td>731.75677</td>\n",
       "      <td>NaN</td>\n",
       "      <td>0.003245</td>\n",
       "    </tr>\n",
       "    <tr>\n",
       "      <th>2</th>\n",
       "      <td>4</td>\n",
       "      <td>AFG</td>\n",
       "      <td>Afghanistan</td>\n",
       "      <td>1990</td>\n",
       "      <td>1.269530</td>\n",
       "      <td>604.00000</td>\n",
       "      <td>NaN</td>\n",
       "      <td>0.002347</td>\n",
       "    </tr>\n",
       "    <tr>\n",
       "      <th>3</th>\n",
       "      <td>4</td>\n",
       "      <td>AFG</td>\n",
       "      <td>Afghanistan</td>\n",
       "      <td>1960</td>\n",
       "      <td>15.763076</td>\n",
       "      <td>739.00000</td>\n",
       "      <td>NaN</td>\n",
       "      <td>0.003039</td>\n",
       "    </tr>\n",
       "    <tr>\n",
       "      <th>4</th>\n",
       "      <td>4</td>\n",
       "      <td>AFG</td>\n",
       "      <td>Afghanistan</td>\n",
       "      <td>2000</td>\n",
       "      <td>2.061114</td>\n",
       "      <td>565.00000</td>\n",
       "      <td>NaN</td>\n",
       "      <td>0.003309</td>\n",
       "    </tr>\n",
       "  </tbody>\n",
       "</table>\n",
       "</div>"
      ],
      "text/plain": [
       "   unid wbid      country  year        SES      gdppc  yrseduc  popshare\n",
       "0     4  AFG  Afghanistan  1970   3.474212  709.00000      NaN  0.003097\n",
       "1     4  AFG  Afghanistan  1920  26.968016  731.75677      NaN  0.003245\n",
       "2     4  AFG  Afghanistan  1990   1.269530  604.00000      NaN  0.002347\n",
       "3     4  AFG  Afghanistan  1960  15.763076  739.00000      NaN  0.003039\n",
       "4     4  AFG  Afghanistan  2000   2.061114  565.00000      NaN  0.003309"
      ]
     },
     "execution_count": 8,
     "metadata": {},
     "output_type": "execute_result"
    }
   ],
   "source": [
    "# read and show the dataset\n",
    "df_gdp = pd.read_csv('gdp.csv',encoding='latin-1')\n",
    "df_gdp.head()"
   ]
  },
  {
   "cell_type": "code",
   "execution_count": null,
   "id": "ac728f50",
   "metadata": {},
   "outputs": [],
   "source": []
  }
 ],
 "metadata": {
  "kernelspec": {
   "display_name": "Python 3 (ipykernel)",
   "language": "python",
   "name": "python3"
  },
  "language_info": {
   "codemirror_mode": {
    "name": "ipython",
    "version": 3
   },
   "file_extension": ".py",
   "mimetype": "text/x-python",
   "name": "python",
   "nbconvert_exporter": "python",
   "pygments_lexer": "ipython3",
   "version": "3.11.5"
  }
 },
 "nbformat": 4,
 "nbformat_minor": 5
}
