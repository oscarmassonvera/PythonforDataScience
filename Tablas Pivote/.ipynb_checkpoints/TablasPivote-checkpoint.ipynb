{
 "cells": [
  {
   "cell_type": "markdown",
   "id": "efc554fa",
   "metadata": {},
   "source": [
    "# Introduccion a tablas pivote en pandas"
   ]
  },
  {
   "cell_type": "markdown",
   "id": "e02abb9c",
   "metadata": {},
   "source": [
    "## pivot() : reconstruye una data basada en valores de una columna (no soporta operaciones)\n",
    "## pivot_table() : crea una tabla pivote al estilo de excel (soporta operaciones)"
   ]
  },
  {
   "cell_type": "code",
   "execution_count": null,
   "id": "0dab2338",
   "metadata": {},
   "outputs": [],
   "source": []
  }
 ],
 "metadata": {
  "kernelspec": {
   "display_name": "Python 3 (ipykernel)",
   "language": "python",
   "name": "python3"
  },
  "language_info": {
   "codemirror_mode": {
    "name": "ipython",
    "version": 3
   },
   "file_extension": ".py",
   "mimetype": "text/x-python",
   "name": "python",
   "nbconvert_exporter": "python",
   "pygments_lexer": "ipython3",
   "version": "3.11.5"
  }
 },
 "nbformat": 4,
 "nbformat_minor": 5
}
